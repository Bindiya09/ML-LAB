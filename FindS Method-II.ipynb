{
 "cells": [
  {
   "cell_type": "code",
   "execution_count": 15,
   "metadata": {},
   "outputs": [
    {
     "name": "stdout",
     "output_type": "stream",
     "text": [
      "         Sky AirTemp Humidity    wind water forecast EnjoySport\n",
      "sl.no                                                          \n",
      "1      sunny    warm   normal  strong  warm     same        yes\n",
      "2      sunny    warm     high  strong  warm     same        yes\n",
      "3      rainy    cold     high  strong  warm   change         no\n",
      "4      sunny    warm     high  strong  cool   change        yes\n"
     ]
    },
    {
     "name": "stderr",
     "output_type": "stream",
     "text": [
      "C:\\Users\\Lenovo\\Anaconda3\\lib\\site-packages\\ipykernel_launcher.py:2: FutureWarning: from_csv is deprecated. Please use read_csv(...) instead. Note that some of the default arguments are different, so please refer to the documentation for from_csv when changing your function calls\n",
      "  \n"
     ]
    }
   ],
   "source": [
    "from pandas import DataFrame\n",
    "data=DataFrame.from_csv('lab1.csv')\n",
    "columnLength=data.shape[1]\n",
    "print(data)"
   ]
  },
  {
   "cell_type": "code",
   "execution_count": 11,
   "metadata": {},
   "outputs": [],
   "source": [
    "h=['0']*(columnLength-1)\n",
    "hp=[]\n",
    "hn=[]"
   ]
  },
  {
   "cell_type": "code",
   "execution_count": 12,
   "metadata": {},
   "outputs": [],
   "source": [
    "for trainingExample in data.values:\n",
    "    if trainingExample[-1]!='no':\n",
    "        hp.append(list(trainingExample))\n",
    "    else:\n",
    "        hn.append(list(trainingExample))\n",
    "    "
   ]
  },
  {
   "cell_type": "code",
   "execution_count": 13,
   "metadata": {},
   "outputs": [],
   "source": [
    "for i in range(len(hp)):\n",
    "    for j in range(columnLength-1):\n",
    "        if(h[j]=='0'):\n",
    "            h[j]=hp[i][j]\n",
    "        if(h[j]!=hp[i][j]):\n",
    "            h[j]='?'\n",
    "        else:\n",
    "            h[j]=hp[i][j]"
   ]
  },
  {
   "cell_type": "code",
   "execution_count": 16,
   "metadata": {},
   "outputs": [
    {
     "name": "stdout",
     "output_type": "stream",
     "text": [
      "\n",
      "The positive hypothesis are: \n",
      "[['sunny', 'warm', 'normal', 'strong', 'warm', 'same', 'yes'], ['sunny', 'warm', 'high', 'strong', 'warm', 'same', 'yes'], ['sunny', 'warm', 'high', 'strong', 'cool', 'change', 'yes']]\n",
      "\n",
      "The negative hypothesis are: \n",
      "[['rainy', 'cold', 'high', 'strong', 'warm', 'change', 'no']]\n",
      "\n",
      "The maximally specific hypothesis is: \n",
      "['sunny', 'warm', '?', 'strong', '?', '?']\n"
     ]
    }
   ],
   "source": [
    "print(\"\\nThe positive hypothesis are: \")\n",
    "print(hp)\n",
    "print(\"\\nThe negative hypothesis are: \")\n",
    "print(hn)\n",
    "print(\"\\nThe maximally specific hypothesis is: \")\n",
    "print(h)"
   ]
  },
  {
   "cell_type": "code",
   "execution_count": null,
   "metadata": {},
   "outputs": [],
   "source": []
  }
 ],
 "metadata": {
  "kernelspec": {
   "display_name": "Python 3",
   "language": "python",
   "name": "python3"
  },
  "language_info": {
   "codemirror_mode": {
    "name": "ipython",
    "version": 3
   },
   "file_extension": ".py",
   "mimetype": "text/x-python",
   "name": "python",
   "nbconvert_exporter": "python",
   "pygments_lexer": "ipython3",
   "version": "3.7.3"
  }
 },
 "nbformat": 4,
 "nbformat_minor": 2
}
